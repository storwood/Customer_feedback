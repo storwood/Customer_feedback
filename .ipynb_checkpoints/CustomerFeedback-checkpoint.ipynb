{
 "cells": [
  {
   "cell_type": "markdown",
   "metadata": {},
   "source": [
    "### Data info\n",
    "#### Data to this program was generated from random values. They do not have any references to real world :). \n",
    "#### CSV or JSON files contain (they are filled with different data):\n",
    "    Total number of users (record) was hardcoded to 500.\n",
    "    Message                     -> always eqales to string Message\n",
    "    airline_code                -> random int <0, 10> \n",
    "    number_of_fellow_passengers -> random int <0,300>\n",
    "    did_receive_compensation    -> random int representing True of False\n",
    "    total_compensation_amount   -> random int <500,20000>. The value is only set for records with did_receive_compensation      set to True\n"
   ]
  },
  {
   "cell_type": "code",
   "execution_count": 1,
   "metadata": {},
   "outputs": [],
   "source": [
    "import csv\n",
    "import json\n",
    "import pandas as pd\n",
    "import seaborn as sns\n",
    "import matplotlib.pyplot as plt"
   ]
  },
  {
   "cell_type": "code",
   "execution_count": 2,
   "metadata": {},
   "outputs": [],
   "source": [
    "class Customer_data :\n",
    "    def __init__(self,file):\n",
    "        if file.lower().endswith(\".csv\"):\n",
    "            self.data = pd.read_csv(file)\n",
    "        elif file.lower().endswith(\".json\"):\n",
    "            self.data = pd.read_json(file)\n",
    "        else:\n",
    "            raise ValueError(\"This format file is not supported. Please use csv or json format instead.\")\n",
    "            \n",
    "    def check_basic_statiscts(self):\n",
    "        #print(self.data.head(5))\n",
    "        print(self.data.info())\n",
    "        print(self.data.describe())\n",
    "        sns.heatmap(self.data.isnull(),cbar=False,yticklabels=False)\n",
    "\n",
    "            \n",
    "    def distribution_of_number_of_fellow_passengers(self,seq):\n",
    "        \n",
    "        #hist is a dictionoary with key representing nubmer of fellow passengers, and value with occurance\n",
    "        hist = {}\n",
    "        for i in self.data['number_of_fellow_passengers']:\n",
    "            hist[i] = hist.get(i,0) + 1\n",
    "            \n",
    "        #first value of a tuple is a number of fellow passengers, the second tuple value is a number of occurance\n",
    "        print(sorted(hist.items(), key = lambda x:x[0]))\n",
    "        \n",
    "        #display histogram without kernel density estimate. Columns with NaN value will be removed.\n",
    "        plt.figure(figsize=(15,3))\n",
    "        plt.hist(self.data['number_of_fellow_passengers'].dropna(),bins=100,alpha=1, rwidth=0.85)\n",
    "        \n",
    "    def average_compensation_per_passenger(self):\n",
    "        #all_passengers_in_plane = [i for i in self.data['number_of_fellow_passengers'][self.data['did_receive_compensation']==1]+1]\n",
    "        #total_compensation_amount = [i for i in self.data['total_compensation_amount'][self.data['total_compensation_amount']>0]]\n",
    "        average_compensation_per_flight = []\n",
    "        total_compensation_amount = (self.data['total_compensation_amount'][self.data['total_compensation_amount']>0]).tolist()\n",
    "        all_passengers_in_plane = (self.data['number_of_fellow_passengers'][self.data['did_receive_compensation']==1]+1).tolist()\n",
    "        for passengers, compensation in zip(all_passengers_in_plane,total_compensation_amount):\n",
    "            average_compensation_per_flight.append(compensation/passengers)\n",
    "        #print(\"Amount per passenger in each flight is: {}\".format(average_compensation_per_flight))\n",
    "        print(\"Average compensation amount per passenger is: {}\".format(sum(average_compensation_per_flight)/len(average_compensation_per_flight)))\n",
    "        return (sum(average_compensation_per_flight)/len(average_compensation_per_flight))\n",
    "        \n",
    "    def most_popular_airline(self):\n",
    "        return (self.data['airline_code'].value_counts().idxmax())\n",
    "    \n",
    "    def percentage_of_users_got_compensation(self):\n",
    "        return (len(self.data[self.data['did_receive_compensation'] == 1])/len(self.data)*100)\n",
    "    \n",
    "    def format_console_output(self):\n",
    "        print()\n",
    "        print(100*'-')\n",
    "        print()\n",
    "    \n",
    "        \n",
    "        \n",
    "        \n",
    "        \n",
    "        "
   ]
  },
  {
   "cell_type": "code",
   "execution_count": 3,
   "metadata": {},
   "outputs": [
    {
     "name": "stdout",
     "output_type": "stream",
     "text": [
      "<class 'pandas.core.frame.DataFrame'>\n",
      "RangeIndex: 500 entries, 0 to 499\n",
      "Data columns (total 5 columns):\n",
      "message                        500 non-null object\n",
      "airline_code                   500 non-null int64\n",
      "number_of_fellow_passengers    500 non-null int64\n",
      "did_receive_compensation       500 non-null int64\n",
      "total_compensation_amount      500 non-null int64\n",
      "dtypes: int64(4), object(1)\n",
      "memory usage: 19.6+ KB\n",
      "None\n",
      "       airline_code  number_of_fellow_passengers  did_receive_compensation  \\\n",
      "count    500.000000                   500.000000                500.000000   \n",
      "mean       5.278000                   147.972000                  0.506000   \n",
      "std        3.241254                    85.317838                  0.500465   \n",
      "min        0.000000                     1.000000                  0.000000   \n",
      "25%        2.000000                    74.750000                  0.000000   \n",
      "50%        6.000000                   143.000000                  1.000000   \n",
      "75%        8.000000                   219.000000                  1.000000   \n",
      "max       10.000000                   300.000000                  1.000000   \n",
      "\n",
      "       total_compensation_amount  \n",
      "count                 500.000000  \n",
      "mean                 5323.240000  \n",
      "std                  6659.479431  \n",
      "min                     0.000000  \n",
      "25%                     0.000000  \n",
      "50%                   916.500000  \n",
      "75%                 10322.000000  \n",
      "max                 19993.000000  \n",
      "\n",
      "----------------------------------------------------------------------------------------------------\n",
      "\n",
      "[(1, 1), (2, 1), (5, 1), (6, 1), (7, 2), (8, 1), (9, 1), (10, 4), (11, 3), (13, 1), (14, 1), (15, 4), (16, 2), (17, 1), (18, 2), (21, 1), (22, 1), (23, 2), (24, 4), (25, 2), (26, 2), (27, 2), (28, 6), (29, 3), (31, 4), (32, 2), (33, 2), (34, 1), (35, 1), (36, 1), (39, 4), (40, 3), (41, 1), (42, 2), (43, 1), (44, 3), (45, 2), (46, 1), (47, 3), (48, 2), (49, 2), (50, 3), (54, 5), (55, 3), (56, 6), (58, 2), (59, 1), (63, 2), (64, 2), (66, 2), (68, 3), (69, 3), (70, 3), (71, 2), (72, 1), (74, 3), (75, 1), (76, 2), (77, 1), (78, 2), (80, 2), (82, 4), (83, 1), (84, 3), (85, 5), (86, 1), (87, 2), (88, 1), (89, 1), (90, 1), (91, 2), (92, 2), (93, 2), (94, 1), (95, 1), (96, 3), (97, 1), (98, 2), (99, 4), (100, 2), (102, 1), (103, 2), (104, 1), (106, 2), (107, 2), (108, 1), (109, 1), (110, 3), (111, 4), (113, 1), (114, 4), (115, 1), (116, 4), (117, 2), (118, 1), (119, 7), (120, 1), (121, 1), (122, 1), (123, 4), (124, 2), (125, 1), (127, 1), (128, 1), (129, 2), (130, 2), (131, 2), (132, 2), (133, 1), (134, 3), (135, 3), (136, 4), (137, 1), (138, 1), (139, 2), (140, 2), (141, 2), (142, 1), (143, 3), (144, 1), (145, 1), (146, 1), (147, 2), (148, 3), (149, 1), (151, 1), (152, 1), (153, 1), (154, 2), (156, 1), (157, 1), (158, 3), (160, 3), (163, 3), (165, 1), (166, 1), (167, 3), (168, 1), (169, 2), (170, 1), (171, 1), (172, 6), (173, 2), (174, 1), (176, 2), (177, 2), (178, 4), (179, 4), (181, 3), (182, 1), (184, 3), (185, 3), (186, 3), (189, 2), (190, 3), (191, 3), (192, 2), (193, 1), (194, 3), (195, 2), (198, 1), (200, 3), (201, 1), (202, 3), (204, 4), (205, 1), (206, 2), (207, 3), (208, 2), (209, 2), (211, 2), (212, 2), (213, 1), (214, 1), (215, 3), (216, 2), (217, 2), (219, 4), (220, 1), (222, 1), (223, 1), (225, 5), (226, 1), (228, 2), (229, 2), (230, 2), (231, 1), (232, 1), (233, 2), (234, 3), (235, 1), (236, 2), (237, 2), (238, 3), (239, 3), (241, 2), (242, 1), (243, 3), (244, 1), (245, 2), (246, 2), (247, 1), (249, 1), (250, 2), (251, 1), (252, 2), (253, 1), (254, 1), (255, 2), (256, 1), (257, 1), (258, 1), (259, 2), (261, 1), (262, 2), (263, 3), (264, 3), (265, 1), (268, 1), (269, 1), (270, 2), (271, 1), (272, 3), (273, 2), (274, 2), (275, 1), (276, 1), (277, 2), (278, 3), (279, 4), (280, 2), (281, 1), (282, 1), (283, 3), (285, 1), (286, 2), (288, 2), (289, 1), (291, 3), (292, 1), (293, 2), (295, 2), (296, 4), (297, 2), (299, 3), (300, 1)]\n",
      "Average compensation amount per passenger is: 134.02598820899325\n",
      "The most popular airline is coded as: 10\n",
      "Percentage of users who got compensation is: 50.6\n",
      "\n",
      "----------------------------------------------------------------------------------------------------\n",
      "\n"
     ]
    },
    {
     "data": {
      "image/png": "[encoded data removed]",
      "text/plain": [
       "<Figure size 432x288 with 1 Axes>"
      ]
     },
     "metadata": {},
     "output_type": "display_data"
    },
    {
     "data": {
      "image/png": "[encoded data removed]",
      "text/plain": [
       "<Figure size 1080x216 with 1 Axes>"
      ]
     },
     "metadata": {},
     "output_type": "display_data"
    }
   ],
   "source": [
    "def main():\n",
    "    customer = Customer_data('AirHelp_random_data.csv')\n",
    "    #customer = Customer_data('AirHelp_random_data.json')\n",
    "    customer.check_basic_statiscts()\n",
    "    \n",
    "    customer.format_console_output()\n",
    "    \n",
    "    customer.distribution_of_number_of_fellow_passengers(customer.data['number_of_fellow_passengers'])\n",
    "    customer.average_compensation_per_passenger()\n",
    "    print(\"The most popular airline is coded as: {}\".format(customer.most_popular_airline()))\n",
    "\n",
    "    print(\"Percentage of users who got compensation is: {}\".format(customer.percentage_of_users_got_compensation()))\n",
    "    \n",
    "    customer.format_console_output()\n",
    "    \n",
    "\n",
    "if __name__ == \"__main__\":\n",
    "    main()\n"
   ]
  },
  {
   "cell_type": "code",
   "execution_count": null,
   "metadata": {},
   "outputs": [],
   "source": []
  },
  {
   "cell_type": "code",
   "execution_count": null,
   "metadata": {},
   "outputs": [],
   "source": []
  },
  {
   "cell_type": "code",
   "execution_count": null,
   "metadata": {},
   "outputs": [],
   "source": []
  }
 ],
 "metadata": {
  "kernelspec": {
   "display_name": "Python 3",
   "language": "python",
   "name": "python3"
  },
  "language_info": {
   "codemirror_mode": {
    "name": "ipython",
    "version": 3
   },
   "file_extension": ".py",
   "mimetype": "text/x-python",
   "name": "python",
   "nbconvert_exporter": "python",
   "pygments_lexer": "ipython3",
   "version": "3.6.5"
  }
 },
 "nbformat": 4,
 "nbformat_minor": 2
}
